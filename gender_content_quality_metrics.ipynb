{
 "cells": [
  {
   "cell_type": "code",
   "execution_count": 1,
   "id": "1b8684e6-2f8d-447d-bb8d-ea2f99f1911e",
   "metadata": {},
   "outputs": [],
   "source": [
    "## We get gender and sexual orientation data from \n",
    "## https://analytics.wikimedia.org/published/datasets/knowledge_gaps/content_gaps/knowledge_gap_index_metrics_csv/ \n",
    "## Use latest snapshot of data available in folder content_gap=gender/\n",
    "\n",
    "\n",
    "import pandas as pd\n",
    "indir='Data/'\n",
    "#this contains the list of all Wikipedia languages\n",
    "wikis=pd.read_csv(indir+'wikis')\n",
    "import matplotlib.pyplot as plt\n",
    "import numpy as np"
   ]
  },
  {
   "cell_type": "markdown",
   "id": "855f4d28-a0a6-4595-ac6d-bf4bf6f9d64d",
   "metadata": {},
   "source": [
    "### Loading and preprocessing data"
   ]
  },
  {
   "cell_type": "code",
   "execution_count": 3,
   "id": "c9f577d5-ebd1-465a-b1bf-7832907f5a39",
   "metadata": {},
   "outputs": [],
   "source": [
    "#Loading Gender Data\n",
    "#gendata=pd.read_csv(indir+'gender-june.csv')\n",
    "\n",
    "# Use the link to load data to avoid truncation of the csv due to file size instead of downloading the csv\n",
    "gendata=pd.read_csv(\"https://analytics.wikimedia.org/published/datasets/knowledge_gaps/content_gaps/knowledge_gap_index_metrics_csv/content_gap=gender/part-00000-2325150f-05fd-47e9-bfe4-08fae3eb635a.c000.csv\")\n",
    "\n",
    "gendata=gendata[gendata.wiki_db.isin(list(wikis['database_code']))]\n",
    "gendata['gender3category']=[i if i in ['male','female'] else 'non-binary' for i in gendata['category']]"
   ]
  },
  {
   "cell_type": "code",
   "execution_count": 4,
   "id": "3d679061-abc0-425f-93ff-73dc8bb8ecdc",
   "metadata": {},
   "outputs": [
    {
     "data": {
      "text/html": [
       "<div>\n",
       "<style scoped>\n",
       "    .dataframe tbody tr th:only-of-type {\n",
       "        vertical-align: middle;\n",
       "    }\n",
       "\n",
       "    .dataframe tbody tr th {\n",
       "        vertical-align: top;\n",
       "    }\n",
       "\n",
       "    .dataframe thead th {\n",
       "        text-align: right;\n",
       "    }\n",
       "</style>\n",
       "<table border=\"1\" class=\"dataframe\">\n",
       "  <thead>\n",
       "    <tr style=\"text-align: right;\">\n",
       "      <th></th>\n",
       "      <th>gender3category</th>\n",
       "      <th>article_created_value</th>\n",
       "    </tr>\n",
       "  </thead>\n",
       "  <tbody>\n",
       "    <tr>\n",
       "      <th>0</th>\n",
       "      <td>female</td>\n",
       "      <td>2403129</td>\n",
       "    </tr>\n",
       "    <tr>\n",
       "      <th>1</th>\n",
       "      <td>male</td>\n",
       "      <td>9939022</td>\n",
       "    </tr>\n",
       "    <tr>\n",
       "      <th>2</th>\n",
       "      <td>non-binary</td>\n",
       "      <td>14160</td>\n",
       "    </tr>\n",
       "  </tbody>\n",
       "</table>\n",
       "</div>"
      ],
      "text/plain": [
       "  gender3category  article_created_value\n",
       "0          female                2403129\n",
       "1            male                9939022\n",
       "2      non-binary                  14160"
      ]
     },
     "execution_count": 4,
     "metadata": {},
     "output_type": "execute_result"
    }
   ],
   "source": [
    "gen3snapshot=gendata.groupby(['gender3category'])['article_created_value'].sum().reset_index()\n",
    "gen3snapshot"
   ]
  },
  {
   "cell_type": "markdown",
   "id": "98049c40-de15-4fb9-b630-07dc1c81c6cb",
   "metadata": {},
   "source": [
    "### Now, over time (gender)"
   ]
  },
  {
   "cell_type": "code",
   "execution_count": 5,
   "id": "335ecdda-7c60-42a7-baad-cef2ccd22a27",
   "metadata": {},
   "outputs": [],
   "source": [
    "count={}\n",
    "qual={}\n",
    "pviews={}\n",
    "for gender in gendata['category'].unique():\n",
    "    count[gender]=gendata[gendata['category']==gender].groupby(['time_bucket'])['article_created_value'].sum()\n",
    "    count[gender]=count[gender].cumsum()\n",
    "    qual[gender]=gendata[gendata['category']==gender].groupby(['time_bucket'])['quality_score_value'].mean()\n",
    "    pviews[gender]=gendata[gendata['category']==gender].groupby(['time_bucket'])['pageviews_mean_value'].mean()"
   ]
  },
  {
   "cell_type": "code",
   "execution_count": 6,
   "id": "d1c500df-4f59-47c3-bd09-3d5db9736943",
   "metadata": {},
   "outputs": [],
   "source": [
    "#overtime quality articles\n",
    "gen3quality=gendata.groupby(['gender3category','time_bucket'])['standard_quality_count_value'].sum().reset_index()"
   ]
  },
  {
   "cell_type": "code",
   "execution_count": 7,
   "id": "0bade9b6-ed7a-4dc5-a400-13d6c65c390e",
   "metadata": {},
   "outputs": [],
   "source": [
    "gen3quality.to_csv('quality_articles.csv')"
   ]
  },
  {
   "cell_type": "code",
   "execution_count": 8,
   "id": "cbc3b10b-acc3-4047-946f-7280fa317902",
   "metadata": {},
   "outputs": [
    {
     "data": {
      "text/html": [
       "<div>\n",
       "<style scoped>\n",
       "    .dataframe tbody tr th:only-of-type {\n",
       "        vertical-align: middle;\n",
       "    }\n",
       "\n",
       "    .dataframe tbody tr th {\n",
       "        vertical-align: top;\n",
       "    }\n",
       "\n",
       "    .dataframe thead th {\n",
       "        text-align: right;\n",
       "    }\n",
       "</style>\n",
       "<table border=\"1\" class=\"dataframe\">\n",
       "  <thead>\n",
       "    <tr style=\"text-align: right;\">\n",
       "      <th></th>\n",
       "      <th>gender3category</th>\n",
       "      <th>standard_quality_count_value</th>\n",
       "    </tr>\n",
       "  </thead>\n",
       "  <tbody>\n",
       "    <tr>\n",
       "      <th>0</th>\n",
       "      <td>female</td>\n",
       "      <td>24995636</td>\n",
       "    </tr>\n",
       "    <tr>\n",
       "      <th>1</th>\n",
       "      <td>male</td>\n",
       "      <td>104200004</td>\n",
       "    </tr>\n",
       "    <tr>\n",
       "      <th>2</th>\n",
       "      <td>non-binary</td>\n",
       "      <td>247869</td>\n",
       "    </tr>\n",
       "  </tbody>\n",
       "</table>\n",
       "</div>"
      ],
      "text/plain": [
       "  gender3category  standard_quality_count_value\n",
       "0          female                      24995636\n",
       "1            male                     104200004\n",
       "2      non-binary                        247869"
      ]
     },
     "execution_count": 8,
     "metadata": {},
     "output_type": "execute_result"
    }
   ],
   "source": [
    "gen3qualitysnapshot=gen3quality.groupby(['gender3category'])['standard_quality_count_value'].sum().reset_index()\n",
    "gen3qualitysnapshot"
   ]
  },
  {
   "cell_type": "code",
   "execution_count": null,
   "id": "16e2ef98-9e42-4f20-a4f6-124e260cddac",
   "metadata": {},
   "outputs": [],
   "source": []
  }
 ],
 "metadata": {
  "kernelspec": {
   "display_name": "Python 3 (ipykernel)",
   "language": "python",
   "name": "python3"
  },
  "language_info": {
   "codemirror_mode": {
    "name": "ipython",
    "version": 3
   },
   "file_extension": ".py",
   "mimetype": "text/x-python",
   "name": "python",
   "nbconvert_exporter": "python",
   "pygments_lexer": "ipython3",
   "version": "3.10.8"
  }
 },
 "nbformat": 4,
 "nbformat_minor": 5
}
