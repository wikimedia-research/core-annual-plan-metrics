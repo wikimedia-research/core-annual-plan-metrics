{
 "cells": [
  {
   "cell_type": "code",
   "execution_count": 1,
   "id": "952b11d7-630a-4ca9-8ce4-55366a45333b",
   "metadata": {},
   "outputs": [
    {
     "name": "stdout",
     "output_type": "stream",
     "text": [
      "\n"
     ]
    },
    {
     "name": "stderr",
     "output_type": "stream",
     "text": [
      "You are using Wmfdata v2.0.0, but v2.0.1 is available.\n",
      "\n",
      "To update, run `pip install --upgrade git+https://github.com/wikimedia/wmfdata-python.git@release`.\n",
      "\n",
      "To see the changes, refer to https://github.com/wikimedia/wmfdata-python/blob/release/CHANGELOG.md.\n"
     ]
    }
   ],
   "source": [
    "import wmfdata as wmf\n",
    "import pandas as pd\n",
    "import numpy as np\n",
    "from wmfdata import spark,hive\n",
    "from datetime import datetime"
   ]
  },
  {
   "cell_type": "code",
   "execution_count": 32,
   "id": "a7ebfa32-570e-44c2-a50c-4f2685aa5e1b",
   "metadata": {},
   "outputs": [],
   "source": [
    "# Load data\n",
    "wikis=pd.read_csv('data/wikis')\n",
    "file = \"https://analytics.wikimedia.org/published/datasets/knowledge_gaps/content_gaps/csv/gender.csv\"\n",
    "gendata = pd.read_csv(file)\n",
    "# only wikipedia projects\n",
    "gendata=gendata[gendata.wiki_db.isin(list(wikis['database_code']))]\n"
   ]
  },
  {
   "cell_type": "code",
   "execution_count": 33,
   "id": "79529953-5734-45fd-b613-65dd73cb6652",
   "metadata": {},
   "outputs": [],
   "source": [
    "# load original gen_data\n",
    "\n",
    "old_gen = pd.read_csv('data/updated_gender.csv') \n",
    "old_gen['time'] = pd.to_datetime(old_gen['time'])\n"
   ]
  },
  {
   "cell_type": "code",
   "execution_count": 34,
   "id": "1a61cf81-772a-46ac-b6f6-1c4217c09bbb",
   "metadata": {},
   "outputs": [],
   "source": [
    "# Define a function to map categories to the new categories\n",
    "def map_gender_category(category):\n",
    "    if category in ['male', 'cisgender male']:\n",
    "        return 'male'\n",
    "    elif category in ['female', 'cisgender female']:\n",
    "        return 'female'\n",
    "    else:\n",
    "        return 'gender_diverse'\n",
    "\n",
    "# Create a new column gender3category\n",
    "gendata['gender3category'] = gendata['category'].apply(map_gender_category)\n"
   ]
  },
  {
   "cell_type": "code",
   "execution_count": 35,
   "id": "57756bf6-46ad-4aaa-9e4f-4d2895f6dac6",
   "metadata": {},
   "outputs": [],
   "source": [
    "#overtime quality articles\n",
    "gen3quality=gendata.groupby(['gender3category','time_bucket'])['standard_quality_count_value'].sum().reset_index()\n",
    "\n",
    "# Pivot the dataframe\n",
    "gen3quality = gen3quality.pivot(index='time_bucket', columns='gender3category', values='standard_quality_count_value').reset_index()\n",
    "#gen3quality = gen3quality[gen3quality['time_bucket'] != '2023-09']\n"
   ]
  },
  {
   "cell_type": "code",
   "execution_count": 36,
   "id": "d5dbae4c-85bc-4f21-be2d-ad59994438d1",
   "metadata": {},
   "outputs": [],
   "source": [
    "#aggregate\n",
    "gen3quality['time'] = pd.to_datetime(gen3quality['time_bucket'])\n",
    "\n",
    "# Identify the latest 'time' in old_geo_data\n",
    "latest_time = old_gen['time'].max()\n",
    "\n",
    "# Filter rows from total quality articles where 'time' is greater than latest_time from old_data to identify rows to be added\n",
    "filtered_rows = gen3quality[gen3quality['time'] > latest_time]\n",
    "\n",
    "\n",
    "\n",
    "# Filter columns of last_row based on columns in geo_data\n",
    "old_gen = pd.concat([old_gen, filtered_rows], axis=0, ignore_index=True, sort=False)\n",
    "\n"
   ]
  },
  {
   "cell_type": "code",
   "execution_count": 37,
   "id": "34f5a100-ac16-45e8-af2e-427673783f3e",
   "metadata": {},
   "outputs": [
    {
     "name": "stdout",
     "output_type": "stream",
     "text": [
      "updated csv file\n"
     ]
    }
   ],
   "source": [
    "# check if any new data was added to the spreadsheet\n",
    "\n",
    "\n",
    "'''\n",
    "The code below computes the monthly metric and the quarterly metric in the following way:\n",
    "\n",
    "1) Monthly metric: Contained in the column called 'metric_underrepresented'.  It is computed as the MoM-difference.\n",
    "\n",
    "2) Quarterly metric: Conatained in the column called 'quarterly_metric'.  It is computed as the average of MoM-difference of the monthly metrics of July 2023 and August 2023.  Since September data is not fully available, \n",
    "it is just the average of the first 2 months in the quarter (July and August).\n",
    "\n",
    "'''\n",
    "\n",
    "\n",
    "\n",
    "if filtered_rows.empty:\n",
    "    print(\"No data has been added to the original spreadsheet. Will not overwrite updated_gender.csv\")    \n",
    "    mom_gen_data = old_gen.copy()\n",
    "    mom_gen_data = mom_gen_data.drop(columns=['time_bucket']) # use old_gen as output since no new rows were added.\n",
    "    \n",
    "else:\n",
    "    # Compute the Year-over-Year difference\n",
    "    mom_gen_data = old_gen.copy()\n",
    "\n",
    "    # Compute the 12-month MoM difference for \"female\" column\n",
    "    mom_gen_data['female_MoM_difference'] = mom_gen_data['female'].diff()\n",
    "\n",
    "\n",
    "    # Compute the 12-month MoM difference for men column\n",
    "    mom_gen_data['men_MoM_difference'] = mom_gen_data['male'].diff()\n",
    "\n",
    "\n",
    "    # Compute the 12-month MoM difference for gender diverse column\n",
    "    mom_gen_data['gender_diverse_MoM_difference'] = mom_gen_data['gender_diverse'].diff()\n",
    "    \n",
    "    \n",
    "# Get total\n",
    "    columns_to_sum = ['female_MoM_difference', 'men_MoM_difference', 'gender_diverse_MoM_difference']\n",
    "    mom_gen_data['total'] = mom_gen_data[columns_to_sum].sum(axis=1)\n",
    "    mom_gen_data['total_gender_minority'] =  mom_gen_data[['female_MoM_difference', 'gender_diverse_MoM_difference']].sum(axis=1)\n",
    "    \n",
    "\n",
    "\n",
    "    # create proportion column to capture women + gender diverse\n",
    "    mom_gen_data['metric_gender_diverse+women'] = mom_gen_data[['female_MoM_difference','gender_diverse_MoM_difference']].sum(axis=1)/mom_gen_data['total'] * 100\n",
    "\n",
    "    # Reorder columns to make 'time' the first column\n",
    "    mom_gen_data = mom_gen_data[['time'] + [col for col in mom_gen_data if col != 'time']]\n",
    "   \n",
    "    # Round the columns and drop extra columns\n",
    "    columns_to_round = [col for col in mom_gen_data.columns if col not in ['metric_gender_diverse+women', 'time']]\n",
    "    mom_gen_data[columns_to_round] = mom_gen_data[columns_to_round].round(decimals=0)\n",
    "    mom_gen_data = mom_gen_data.drop(columns=['time_bucket'])\n",
    "    \n",
    "    # Make metric column into %\n",
    "    \n",
    "    #mom_gen_data['proportion_of_non_male'] = mom_gen_data['metric_gender_diverse+women'] \n",
    "    #mom_gen_data['metric_gender_diverse+women'] = (mom_gen_data['metric_gender_diverse+women'] * 100).round()\n",
    "    #mom_gen_data['metric_gender_diverse+women'] = mom_gen_data['metric_gender_diverse+women'].replace([np.inf, -np.inf, np.nan], 0).astype(int).astype(str) + '%'\n",
    "\n",
    "    \n",
    "    quart_df = mom_gen_data.copy()\n",
    "\n",
    "    # Filter the copied DataFrame for the rows of August and July 2023\n",
    "    august_july_data = quart_df[quart_df['time'].isin([pd.Timestamp('2023-09-01'),pd.Timestamp('2023-08-01'), pd.Timestamp('2023-07-01')])]\n",
    "\n",
    "    # Specify columns to average\n",
    "    cols_to_average = ['female_MoM_difference', 'men_MoM_difference', 'gender_diverse_MoM_difference']\n",
    "    average_values = august_july_data[cols_to_average].mean()\n",
    "\n",
    "    # Replace values in the row corresponding to '2023-09-01' with average_values\n",
    "    quart_df.loc[quart_df['time'] == '2023-09-01', cols_to_average] = average_values.values\n",
    "    quart_df['total'] = quart_df[['female_MoM_difference', 'men_MoM_difference', 'gender_diverse_MoM_difference']].sum(axis=1)\n",
    "\n",
    "    # Calculate the quarterly metric as a proportion of gender_diverse_MoM_difference and female_MoM_difference\n",
    "    quart_df['quarterly_metric'] = ((quart_df['gender_diverse_MoM_difference'] + quart_df['female_MoM_difference']) / quart_df['total']) * 100\n",
    "\n",
    "    # Append the created quarterly_metric column to mom_gen_data\n",
    "    mom_gen_data['quarterly_metric'] = quart_df['quarterly_metric']\n",
    "    \n",
    "    \n",
    "    #output\n",
    "    \n",
    "    mom_gen_data.to_csv('data/updated_gender.csv', index=False)\n",
    "    print(\"updated csv file\")"
   ]
  },
  {
   "cell_type": "markdown",
   "id": "ea05118a-43a6-42e0-92d4-a944fbf09516",
   "metadata": {},
   "source": [
    "# Naive Forecast"
   ]
  },
  {
   "cell_type": "code",
   "execution_count": 38,
   "id": "7b6baf32-2832-455f-8095-740849a59c2a",
   "metadata": {},
   "outputs": [],
   "source": [
    "'''\n",
    "The forecast is calculated by getting the rate of change from the same period last year and the period that followed it for the underrepresented proportion and the overall new article count, then applying that rate of change to the values of the current period\n",
    "to create a forecasted estimate of the subset of interest (gender diverse + women) totals and overall totals and then getting the difference of these values to compute an estimate of the proportion for the next period.  For the quarterly forecast, the value of the first period is determine by taking\n",
    "the average of the available data for the quarter.\n",
    "\n",
    "'''\n",
    "\n",
    "# Define the months for q1 and q2\n",
    "q1_dates = ['2022-07-01', '2022-08-01', '2022-09-01']\n",
    "q2_dates = ['2022-10-01', '2022-11-01', '2022-12-01']\n",
    "\n",
    "# Filter the data for q1 and q2 separately\n",
    "q1_data = mom_gen_data[mom_gen_data['time'].isin(q1_dates)]\n",
    "q2_data = mom_gen_data[mom_gen_data['time'].isin(q2_dates)]\n",
    "\n",
    "# Calculate the average combined values for female + gender diverse and men for Q1\n",
    "avg_combined_female_gender_q1 = (q1_data['female_MoM_difference'] + q1_data['gender_diverse_MoM_difference']).mean()\n",
    "avg_total_q1 =  (q1_data['female_MoM_difference'] + q1_data['gender_diverse_MoM_difference'] + q1_data['men_MoM_difference']).mean()\n",
    "\n",
    "# Calculate the average combined values for female + gender diverse and men for Q2\n",
    "avg_combined_female_gender_q2 = (q2_data['female_MoM_difference'] + q2_data['gender_diverse_MoM_difference']).mean()\n",
    "avg_total_q2 =  (q2_data['female_MoM_difference'] + q2_data['gender_diverse_MoM_difference'] + q2_data['men_MoM_difference']).mean()\n",
    "\n",
    "# Calculate the rate of change from Q1 to Q2 for female + gender diverse\n",
    "roc_female_gender = (avg_combined_female_gender_q2 - avg_combined_female_gender_q1) / avg_combined_female_gender_q1\n",
    "\n",
    "# Calculate the rate of change from Q1 to Q2 for the total\n",
    "roc_total_q = (avg_total_q2  - avg_total_q1 ) / avg_total_q1 \n",
    "\n",
    "# Apply the rate of change to estimate the values in combined_df which contains the values of the gender categories MoM difference for the quarter (the average of July and August)\n",
    "quart_df['forecasted_female_gender'] = quart_df['female_MoM_difference'] + quart_df['gender_diverse_MoM_difference']\n",
    "quart_df['forecasted_female_gender'] = quart_df['forecasted_female_gender'] * (1 + roc_female_gender)\n",
    "\n",
    "quart_df['forecasted_total'] = quart_df['total'] * (1 + roc_total_q)\n",
    "\n",
    "# Calculate forecasted_total\n",
    "#quart_df['forecasted_total'] = quart_df['forecasted_female_gender'] + quart_df['forecasted_men']\n",
    "quart_df['forecasted_quarterly_metric'] = quart_df['forecasted_female_gender'] / quart_df['forecasted_total']\n",
    "\n",
    "\n",
    "# Print the forecasted metric for the row of 2023-09-01\n",
    "forecast_value = quart_df.loc[quart_df['time'] == '2023-09-01', 'forecasted_quarterly_metric'].values[0]\n",
    "#print(f\"The forecasted metric for Q2 2023 is: {forecast_value:.2%}\")\n",
    "\n",
    "\n",
    "# Monthly forecast\n",
    "\n",
    "m1_dates = ['2022-09-01']\n",
    "m2_dates = ['2022-10-01']\n",
    "\n",
    "# Filter the data for q1 and q2 separately\n",
    "m1_data = mom_gen_data[mom_gen_data['time'].isin(m1_dates)]\n",
    "m2_data = mom_gen_data[mom_gen_data['time'].isin(m2_dates)]\n",
    "\n",
    "# Calculate the combined values for female + gender diverse and men for Q1\n",
    "combined_female_gender_m1 = m1_data['female_MoM_difference'].values[0] + m1_data['gender_diverse_MoM_difference'].values[0]\n",
    "total_m1 = m1_data['men_MoM_difference'].values[0]+ m1_data['female_MoM_difference'].values[0] + m1_data['gender_diverse_MoM_difference'].values[0]\n",
    "\n",
    "# Calculate the combined values for female + gender diverse and men for Q2\n",
    "combined_female_gender_m2 = m2_data['female_MoM_difference'].values[0] + m2_data['gender_diverse_MoM_difference'].values[0]\n",
    "total_m2 = m2_data['men_MoM_difference'].values[0]+ m2_data['female_MoM_difference'].values[0] + m2_data['gender_diverse_MoM_difference'].values[0]\n",
    "\n",
    "# Calculate the rate of change from Q1 to Q2 for female + gender diverse\n",
    "roc_female_gender_m = (combined_female_gender_m2 - combined_female_gender_m1) / combined_female_gender_m1\n",
    "\n",
    "# Calculate the rate of change from Q1 to Q2 for men\n",
    "roc_total_m = (total_m2 - total_m1) / total_m1\n",
    "\n",
    "# Make a copy of the dataframe that contains the monthly values\n",
    "monthly_forecast = mom_gen_data.copy()\n",
    "\n",
    "# Apply the rate of change to estimate the values in combined_df which contains the values of the gender categories MoM difference for the quarter (the average of July and August)\n",
    "monthly_forecast['forecasted_female_gender'] = monthly_forecast['female_MoM_difference'] + monthly_forecast['gender_diverse_MoM_difference']\n",
    "monthly_forecast['forecasted_female_gender'] = monthly_forecast['forecasted_female_gender'] * (1 + roc_female_gender_m)\n",
    "\n",
    "monthly_forecast['forecasted_total'] = monthly_forecast['total'] * (1 + roc_total_m)\n",
    "\n",
    "\n",
    "\n",
    "# Calculate forecasted_total\n",
    "#monthly_forecast['forecasted_total'] = monthly_forecast['forecasted_female_gender'] + monthly_forecast['forecasted_men']\n",
    "monthly_forecast['forecasted_monthly_metric'] = monthly_forecast['forecasted_female_gender'] / monthly_forecast['forecasted_total']\n",
    "\n",
    "# Print the forecasted metric for the row of 2023-09-01\n",
    "forecast_value_m = monthly_forecast.loc[monthly_forecast['time'] == '2023-09-01', 'forecasted_monthly_metric'].values[0]\n",
    "#print(f\"The forecasted monthly metric for September 2023 is: {forecast_value_m:.2%}\")"
   ]
  },
  {
   "cell_type": "code",
   "execution_count": 39,
   "id": "9eb05600-63be-4f33-bfc0-c5f4611a2758",
   "metadata": {},
   "outputs": [
    {
     "name": "stderr",
     "output_type": "stream",
     "text": [
      "/tmp/ipykernel_10496/3194413587.py:14: SettingWithCopyWarning: \n",
      "A value is trying to be set on a copy of a slice from a DataFrame\n",
      "\n",
      "See the caveats in the documentation: https://pandas.pydata.org/pandas-docs/stable/user_guide/indexing.html#returning-a-view-versus-a-copy\n",
      "  mom_data['quarterly_metric'].iloc[:-1] = np.nan\n",
      "/tmp/ipykernel_10496/3194413587.py:15: SettingWithCopyWarning: \n",
      "A value is trying to be set on a copy of a slice from a DataFrame\n",
      "\n",
      "See the caveats in the documentation: https://pandas.pydata.org/pandas-docs/stable/user_guide/indexing.html#returning-a-view-versus-a-copy\n",
      "  mom_data['forecasted_monthly_metric'].iloc[:-1] = np.nan\n",
      "/tmp/ipykernel_10496/3194413587.py:16: SettingWithCopyWarning: \n",
      "A value is trying to be set on a copy of a slice from a DataFrame\n",
      "\n",
      "See the caveats in the documentation: https://pandas.pydata.org/pandas-docs/stable/user_guide/indexing.html#returning-a-view-versus-a-copy\n",
      "  mom_data['forecasted_quarterly_metric'].iloc[:-1] = np.nan\n"
     ]
    },
    {
     "data": {
      "text/html": [
       "<div>\n",
       "<style scoped>\n",
       "    .dataframe tbody tr th:only-of-type {\n",
       "        vertical-align: middle;\n",
       "    }\n",
       "\n",
       "    .dataframe tbody tr th {\n",
       "        vertical-align: top;\n",
       "    }\n",
       "\n",
       "    .dataframe thead th {\n",
       "        text-align: right;\n",
       "    }\n",
       "</style>\n",
       "<table border=\"1\" class=\"dataframe\">\n",
       "  <thead>\n",
       "    <tr style=\"text-align: right;\">\n",
       "      <th></th>\n",
       "      <th>time</th>\n",
       "      <th>female</th>\n",
       "      <th>male</th>\n",
       "      <th>gender_diverse</th>\n",
       "      <th>female_MoM_difference</th>\n",
       "      <th>men_MoM_difference</th>\n",
       "      <th>gender_diverse_MoM_difference</th>\n",
       "      <th>total_gender_minority</th>\n",
       "      <th>total</th>\n",
       "      <th>metric_gender_diverse+women</th>\n",
       "      <th>quarterly_metric</th>\n",
       "      <th>forecasted_monthly_metric</th>\n",
       "      <th>forecasted_quarterly_metric</th>\n",
       "    </tr>\n",
       "  </thead>\n",
       "  <tbody>\n",
       "    <tr>\n",
       "      <th>272</th>\n",
       "      <td>2023-09-01</td>\n",
       "      <td>358418.0</td>\n",
       "      <td>1262633.0</td>\n",
       "      <td>4088.0</td>\n",
       "      <td>2943.0</td>\n",
       "      <td>9826.0</td>\n",
       "      <td>36.0</td>\n",
       "      <td>2979.0</td>\n",
       "      <td>12805.0</td>\n",
       "      <td>23.2643</td>\n",
       "      <td>24.2346</td>\n",
       "      <td>22.08</td>\n",
       "      <td>20.77</td>\n",
       "    </tr>\n",
       "  </tbody>\n",
       "</table>\n",
       "</div>"
      ],
      "text/plain": [
       "          time    female       male  gender_diverse  female_MoM_difference  \\\n",
       "272 2023-09-01  358418.0  1262633.0          4088.0                 2943.0   \n",
       "\n",
       "     men_MoM_difference  gender_diverse_MoM_difference  total_gender_minority  \\\n",
       "272              9826.0                           36.0                 2979.0   \n",
       "\n",
       "       total  metric_gender_diverse+women  quarterly_metric  \\\n",
       "272  12805.0                      23.2643           24.2346   \n",
       "\n",
       "     forecasted_monthly_metric  forecasted_quarterly_metric  \n",
       "272                      22.08                        20.77  "
      ]
     },
     "execution_count": 39,
     "metadata": {},
     "output_type": "execute_result"
    }
   ],
   "source": [
    "mom_data = mom_gen_data.copy() # Copy primary dataframe\n",
    "\n",
    "# Append forecast to primary dataframe\n",
    "mom_data['forecasted_monthly_metric'] = monthly_forecast['forecasted_monthly_metric']\n",
    "mom_data['forecasted_quarterly_metric'] = quart_df['forecasted_quarterly_metric']\n",
    "\n",
    "mom_data['forecasted_monthly_metric'] = mom_data['forecasted_monthly_metric'].round(4)*100\n",
    "mom_data['forecasted_quarterly_metric'] = mom_data['forecasted_quarterly_metric'].round(4)*100\n",
    "\n",
    "mom_data['metric_gender_diverse+women'] = mom_data['metric_gender_diverse+women'].round(4)\n",
    "mom_data['quarterly_metric'] = mom_data['quarterly_metric'].round(4)\n",
    "\n",
    "# Set all rows except the last one to NaN because forecasts, quarterly metric have not been computed or needed for historical data\n",
    "mom_data['quarterly_metric'].iloc[:-1] = np.nan\n",
    "mom_data['forecasted_monthly_metric'].iloc[:-1] = np.nan\n",
    "mom_data['forecasted_quarterly_metric'].iloc[:-1] = np.nan\n",
    "\n",
    "mom_data.to_csv('data/updated_gender.csv', index=False)\n",
    "mom_data.tail(1)\n"
   ]
  },
  {
   "cell_type": "markdown",
   "id": "3bdf2dcd-758d-4ffd-8843-b307c937835c",
   "metadata": {},
   "source": [
    "# Generate monthly chart"
   ]
  },
  {
   "cell_type": "code",
   "execution_count": 9,
   "id": "4283d50f-5719-4a55-b978-7d0b4cf13659",
   "metadata": {},
   "outputs": [
    {
     "name": "stdout",
     "output_type": "stream",
     "text": [
      "Generating Women % Distribution chart...\n"
     ]
    },
    {
     "data": {
      "image/png": "[encoded data removed]",
      "text/plain": [
       "<Figure size 1000x600 with 1 Axes>"
      ]
     },
     "metadata": {},
     "output_type": "display_data"
    }
   ],
   "source": [
    "%run gender_gap_plot.ipynb"
   ]
  },
  {
   "cell_type": "code",
   "execution_count": null,
   "id": "1f658baf-c4f8-4048-906f-7e01c367a480",
   "metadata": {},
   "outputs": [],
   "source": []
  }
 ],
 "metadata": {
  "kernelspec": {
   "display_name": "Python 3 (ipykernel)",
   "language": "python",
   "name": "python3"
  },
  "language_info": {
   "codemirror_mode": {
    "name": "ipython",
    "version": 3
   },
   "file_extension": ".py",
   "mimetype": "text/x-python",
   "name": "python",
   "nbconvert_exporter": "python",
   "pygments_lexer": "ipython3",
   "version": "3.10.8"
  }
 },
 "nbformat": 4,
 "nbformat_minor": 5
}
