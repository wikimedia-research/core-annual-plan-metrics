{
 "cells": [
  {
   "cell_type": "code",
   "execution_count": 1,
   "id": "952b11d7-630a-4ca9-8ce4-55366a45333b",
   "metadata": {},
   "outputs": [
    {
     "name": "stdout",
     "output_type": "stream",
     "text": [
      "\n"
     ]
    },
    {
     "name": "stderr",
     "output_type": "stream",
     "text": [
      "You are using Wmfdata v2.0.0, but v2.0.1 is available.\n",
      "\n",
      "To update, run `pip install --upgrade git+https://github.com/wikimedia/wmfdata-python.git@release`.\n",
      "\n",
      "To see the changes, refer to https://github.com/wikimedia/wmfdata-python/blob/release/CHANGELOG.md.\n"
     ]
    }
   ],
   "source": [
    "import wmfdata as wmf\n",
    "import pandas as pd\n",
    "import numpy as np\n",
    "from wmfdata import spark,hive\n",
    "from datetime import datetime"
   ]
  },
  {
   "cell_type": "code",
   "execution_count": 2,
   "id": "a7ebfa32-570e-44c2-a50c-4f2685aa5e1b",
   "metadata": {},
   "outputs": [],
   "source": [
    "# Load data\n",
    "wikis=pd.read_csv('data/wikis')\n",
    "file = \"https://analytics.wikimedia.org/published/datasets/knowledge_gaps/content_gaps/csv/gender.csv\"\n",
    "gendata = pd.read_csv(file)\n",
    "# only wikipedia projects\n",
    "gendata=gendata[gendata.wiki_db.isin(list(wikis['database_code']))]\n"
   ]
  },
  {
   "cell_type": "code",
   "execution_count": 3,
   "id": "a3fb9d72-1735-46ca-be34-519371a2821d",
   "metadata": {},
   "outputs": [],
   "source": [
    "# Since each snapshot contains patial data of the month it is published it in: we filter the data from previous month if the data was pulled too early. *Needs to be revisited\n",
    "\n",
    "# Convert 'time_bucket' to datetime for comparison\n",
    "#gendata['time_bucket'] = pd.to_datetime(gendata['time_bucket'])\n",
    "\n",
    "\n",
    "# If today's day is before the 23rd of the month, filter out the previous month's data\n",
    "#if datetime.now().day < 23:\n",
    "#    prev_month = datetime.now().month - 1 if datetime.now().month > 1 else 12\n",
    "#    gendata = gendata[gendata['time_bucket'].dt.month != prev_month]"
   ]
  },
  {
   "cell_type": "code",
   "execution_count": 4,
   "id": "79529953-5734-45fd-b613-65dd73cb6652",
   "metadata": {},
   "outputs": [],
   "source": [
    "# load original gen_data\n",
    "\n",
    "old_gen = pd.read_csv('data/updated_gender.csv') \n",
    "old_gen['time'] = pd.to_datetime(old_gen['time'])\n"
   ]
  },
  {
   "cell_type": "code",
   "execution_count": 5,
   "id": "1a61cf81-772a-46ac-b6f6-1c4217c09bbb",
   "metadata": {},
   "outputs": [],
   "source": [
    "# Define a function to map categories to the new categories\n",
    "def map_gender_category(category):\n",
    "    if category in ['male', 'cisgender male']:\n",
    "        return 'male'\n",
    "    elif category in ['female', 'cisgender female']:\n",
    "        return 'female'\n",
    "    else:\n",
    "        return 'gender_diverse'\n",
    "\n",
    "# Create a new column gender3category\n",
    "gendata['gender3category'] = gendata['category'].apply(map_gender_category)\n"
   ]
  },
  {
   "cell_type": "code",
   "execution_count": 6,
   "id": "57756bf6-46ad-4aaa-9e4f-4d2895f6dac6",
   "metadata": {},
   "outputs": [],
   "source": [
    "#overtime quality articles\n",
    "gen3quality=gendata.groupby(['gender3category','time_bucket'])['standard_quality_count_value'].sum().reset_index()\n",
    "\n",
    "# Pivot the dataframe\n",
    "gen3quality = gen3quality.pivot(index='time_bucket', columns='gender3category', values='standard_quality_count_value').reset_index()\n",
    "gen3quality = gen3quality[gen3quality['time_bucket'] != '2023-09']\n"
   ]
  },
  {
   "cell_type": "code",
   "execution_count": 7,
   "id": "d5dbae4c-85bc-4f21-be2d-ad59994438d1",
   "metadata": {},
   "outputs": [],
   "source": [
    "#aggregate\n",
    "gen3quality['time'] = pd.to_datetime(gen3quality['time_bucket'])\n",
    "\n",
    "# Identify the latest 'time' in old_geo_data\n",
    "latest_time = old_gen['time'].max()\n",
    "\n",
    "# Filter rows from total quality articles where 'time' is greater than latest_time from old_data to identify rows to be added\n",
    "filtered_rows = gen3quality[gen3quality['time'] > latest_time]\n",
    "\n",
    "\n",
    "\n",
    "# Filter columns of last_row based on columns in geo_data\n",
    "old_gen = pd.concat([old_gen, filtered_rows], axis=0, ignore_index=True, sort=False)\n",
    "\n"
   ]
  },
  {
   "cell_type": "code",
   "execution_count": 8,
   "id": "34f5a100-ac16-45e8-af2e-427673783f3e",
   "metadata": {},
   "outputs": [
    {
     "name": "stdout",
     "output_type": "stream",
     "text": [
      "updated csv file\n"
     ]
    }
   ],
   "source": [
    "# check if any new data was added to the spreadsheet\n",
    "\n",
    "\n",
    "'''\n",
    "The code below computes the monthly metric and the quarterly metric in the following way:\n",
    "\n",
    "1) Monthly metric: Contained in the column called 'proportion_of_non_male'.  It is computed as the yoy-difference from 2022 and 2023 (difference calculated over 12 periods).  \n",
    "\n",
    "2) Quarterly metric: Conatained in the column called 'quarterly_metric'.  It is computed as the average of yoy-difference of the monthly metrics of July 2023 and August 2023.  Since September data is not fully available, \n",
    "it is just the average of the first 2 months in the quarter (July and August).\n",
    "\n",
    "\n",
    "\n",
    "'''\n",
    "\n",
    "\n",
    "\n",
    "if filtered_rows.empty:\n",
    "    print(\"No data has been added to the original spreadsheet. Will not overwrite updated_gender.csv\")    \n",
    "    rolling_avg_yoy = old_gen.copy()\n",
    "    rolling_avg_yoy = rolling_avg_yoy.drop(columns=['time_bucket']) # use old_gen as output since no new rows were added.\n",
    "    \n",
    "else:\n",
    "    # Compute the Year-over-Year difference\n",
    "    rolling_avg_yoy = old_gen.copy()\n",
    "\n",
    "    # Compute the 12-month YoY difference for \"female\" column\n",
    "    rolling_avg_yoy['female_YoY_difference'] = rolling_avg_yoy['female'].diff(12)\n",
    "\n",
    "\n",
    "    # Compute the 12-month YoY difference for men column\n",
    "    rolling_avg_yoy['men_YoY_difference'] = rolling_avg_yoy['male'].diff(12)\n",
    "\n",
    "\n",
    "    # Compute the 12-month YoY difference for gender diverse column\n",
    "    rolling_avg_yoy['gender_diverse_YoY_difference'] = rolling_avg_yoy['gender_diverse'].diff(12)\n",
    "    \n",
    "    \n",
    "# Get total\n",
    "    columns_to_sum = ['female_YoY_difference', 'men_YoY_difference', 'gender_diverse_YoY_difference']\n",
    "    rolling_avg_yoy['total'] = rolling_avg_yoy[columns_to_sum].sum(axis=1)\n",
    "    \n",
    "\n",
    "\n",
    "    # create proportion column to capture women + gender diverse\n",
    "    rolling_avg_yoy['metric_gender_diverse+women'] = rolling_avg_yoy[['female_YoY_difference','gender_diverse_YoY_difference']].sum(axis=1)/rolling_avg_yoy['total'] * 100\n",
    "\n",
    "    # Reorder columns to make 'time' the first column\n",
    "    rolling_avg_yoy = rolling_avg_yoy[['time'] + [col for col in rolling_avg_yoy if col != 'time']]\n",
    "   \n",
    "    # Round the columns and drop extra columns\n",
    "    columns_to_round = [col for col in rolling_avg_yoy.columns if col not in ['metric_gender_diverse+women', 'time']]\n",
    "    rolling_avg_yoy[columns_to_round] = rolling_avg_yoy[columns_to_round].round(decimals=0)\n",
    "    rolling_avg_yoy = rolling_avg_yoy.drop(columns=['time_bucket'])\n",
    "    \n",
    "    # Make metric column into %\n",
    "    \n",
    "    rolling_avg_yoy['proportion_of_non_male'] = rolling_avg_yoy['metric_gender_diverse+women'] \n",
    "    #rolling_avg_yoy['metric_gender_diverse+women'] = (rolling_avg_yoy['metric_gender_diverse+women'] * 100).round()\n",
    "    #rolling_avg_yoy['metric_gender_diverse+women'] = rolling_avg_yoy['metric_gender_diverse+women'].replace([np.inf, -np.inf, np.nan], 0).astype(int).astype(str) + '%'\n",
    "\n",
    "    \n",
    "    copied_df = rolling_avg_yoy.copy()\n",
    "\n",
    "    # 3. Filter the copied DataFrame for the rows of August and July 2023\n",
    "    august_july_data = copied_df[copied_df['time'].isin([pd.Timestamp('2023-08-01'), pd.Timestamp('2023-07-01')])]\n",
    "\n",
    "    # 4. Specify columns to average\n",
    "    cols_to_average = ['female_YoY_difference', 'men_YoY_difference', 'gender_diverse_YoY_difference']\n",
    "    average_values = august_july_data[cols_to_average].mean()\n",
    "\n",
    "    # Replace values in the row corresponding to '2023-08-01' with average_values\n",
    "    copied_df.loc[copied_df['time'] == '2023-08-01', cols_to_average] = average_values.values\n",
    "\n",
    "    # 5. Calculate the quarterly metric as a proportion of gender_diverse_YoY_difference and female_YoY_difference\n",
    "    copied_df['quarterly_metric'] = ((copied_df['gender_diverse_YoY_difference'] + copied_df['female_YoY_difference']) / copied_df['total']) * 100\n",
    "\n",
    "    # 6. Append the created quarterly_metric column to rolling_avg_yoy\n",
    "    rolling_avg_yoy['quarterly_metric'] = copied_df['quarterly_metric']\n",
    "    \n",
    "    \n",
    "    #output\n",
    "    \n",
    "    rolling_avg_yoy.to_csv('data/updated_gender.csv', index=False)\n",
    "    print(\"updated csv file\")\n",
    " \n",
    "    \n",
    "    "
   ]
  },
  {
   "cell_type": "code",
   "execution_count": 9,
   "id": "7895d815-725d-4d28-b7f9-3b08534a85ce",
   "metadata": {},
   "outputs": [
    {
     "name": "stdout",
     "output_type": "stream",
     "text": [
      "The latest monthly metrics are: \n"
     ]
    },
    {
     "data": {
      "text/html": [
       "<div>\n",
       "<style scoped>\n",
       "    .dataframe tbody tr th:only-of-type {\n",
       "        vertical-align: middle;\n",
       "    }\n",
       "\n",
       "    .dataframe tbody tr th {\n",
       "        vertical-align: top;\n",
       "    }\n",
       "\n",
       "    .dataframe thead th {\n",
       "        text-align: right;\n",
       "    }\n",
       "</style>\n",
       "<table border=\"1\" class=\"dataframe\">\n",
       "  <thead>\n",
       "    <tr style=\"text-align: right;\">\n",
       "      <th></th>\n",
       "      <th>time</th>\n",
       "      <th>women YoY difference (3m)</th>\n",
       "      <th>gender_diverse_YoY_difference (3m)</th>\n",
       "      <th>men YoY difference (3m)</th>\n",
       "      <th>female</th>\n",
       "      <th>male</th>\n",
       "      <th>gender_diverse</th>\n",
       "      <th>female_YoY_difference</th>\n",
       "      <th>men_YoY_difference</th>\n",
       "      <th>gender_diverse_YoY_difference</th>\n",
       "      <th>total</th>\n",
       "      <th>proportion_of_non_male</th>\n",
       "      <th>quarterly_metric</th>\n",
       "    </tr>\n",
       "  </thead>\n",
       "  <tbody>\n",
       "    <tr>\n",
       "      <th>269</th>\n",
       "      <td>2023-06-01</td>\n",
       "      <td>42467.0</td>\n",
       "      <td>609.0</td>\n",
       "      <td>116082.0</td>\n",
       "      <td>348896</td>\n",
       "      <td>1232367</td>\n",
       "      <td>3929</td>\n",
       "      <td>41894.0</td>\n",
       "      <td>114642.0</td>\n",
       "      <td>591.0</td>\n",
       "      <td>157127.0</td>\n",
       "      <td>27.038638</td>\n",
       "      <td>27.038638</td>\n",
       "    </tr>\n",
       "    <tr>\n",
       "      <th>270</th>\n",
       "      <td>2023-07-01</td>\n",
       "      <td>41676.0</td>\n",
       "      <td>599.0</td>\n",
       "      <td>114746.0</td>\n",
       "      <td>352266</td>\n",
       "      <td>1242333</td>\n",
       "      <td>3982</td>\n",
       "      <td>40463.0</td>\n",
       "      <td>112986.0</td>\n",
       "      <td>597.0</td>\n",
       "      <td>154046.0</td>\n",
       "      <td>26.654376</td>\n",
       "      <td>26.654376</td>\n",
       "    </tr>\n",
       "    <tr>\n",
       "      <th>271</th>\n",
       "      <td>2023-08-01</td>\n",
       "      <td>NaN</td>\n",
       "      <td>NaN</td>\n",
       "      <td>NaN</td>\n",
       "      <td>355475</td>\n",
       "      <td>1252807</td>\n",
       "      <td>4052</td>\n",
       "      <td>39199.0</td>\n",
       "      <td>112381.0</td>\n",
       "      <td>605.0</td>\n",
       "      <td>152185.0</td>\n",
       "      <td>26.155009</td>\n",
       "      <td>26.567664</td>\n",
       "    </tr>\n",
       "  </tbody>\n",
       "</table>\n",
       "</div>"
      ],
      "text/plain": [
       "          time  women YoY difference (3m)  gender_diverse_YoY_difference (3m)  \\\n",
       "269 2023-06-01                    42467.0                               609.0   \n",
       "270 2023-07-01                    41676.0                               599.0   \n",
       "271 2023-08-01                        NaN                                 NaN   \n",
       "\n",
       "     men YoY difference (3m)  female     male  gender_diverse  \\\n",
       "269                 116082.0  348896  1232367            3929   \n",
       "270                 114746.0  352266  1242333            3982   \n",
       "271                      NaN  355475  1252807            4052   \n",
       "\n",
       "     female_YoY_difference  men_YoY_difference  gender_diverse_YoY_difference  \\\n",
       "269                41894.0            114642.0                          591.0   \n",
       "270                40463.0            112986.0                          597.0   \n",
       "271                39199.0            112381.0                          605.0   \n",
       "\n",
       "        total  proportion_of_non_male  quarterly_metric  \n",
       "269  157127.0               27.038638         27.038638  \n",
       "270  154046.0               26.654376         26.654376  \n",
       "271  152185.0               26.155009         26.567664  "
      ]
     },
     "execution_count": 9,
     "metadata": {},
     "output_type": "execute_result"
    }
   ],
   "source": [
    "   print(\"The latest monthly metrics are: \")\n",
    "rolling_avg_yoy.drop(columns=['metric_gender_diverse+women']).tail(1) # View data"
   ]
  },
  {
   "cell_type": "markdown",
   "id": "ea05118a-43a6-42e0-92d4-a944fbf09516",
   "metadata": {},
   "source": [
    "# Naive Forecast"
   ]
  },
  {
   "cell_type": "code",
   "execution_count": 18,
   "id": "7b6baf32-2832-455f-8095-740849a59c2a",
   "metadata": {},
   "outputs": [
    {
     "name": "stdout",
     "output_type": "stream",
     "text": [
      "Delta between Q2 and Q3 2022: -0.01 percentage points\n",
      "Last available quarterly metric (August 2023): 26.57%\n",
      "Forecast for Q4 2023: 26.57%\n"
     ]
    }
   ],
   "source": [
    "'''\n",
    "The forecast is calculated by getting the difference between the change in the average metric from Q2 2022 and Q3 2022 and then adding that change onto the calculated quarterly metric\n",
    "for Q2 2023 (the average of July and August).\n",
    "\n",
    "\n",
    "'''\n",
    "\n",
    "\n",
    "# Define the months for Q2 and Q3\n",
    "q2_dates = ['2022-07-01', '2022-08-01', '2022-09-01']\n",
    "q3_dates = ['2022-10-01', '2022-11-01', '2022-12-01']\n",
    "\n",
    "# Filter the data for Q2 and Q3 separately\n",
    "q2_data = rolling_avg_yoy[rolling_avg_yoy['time'].isin(q2_dates)].copy()\n",
    "q3_data = rolling_avg_yoy[rolling_avg_yoy['time'].isin(q3_dates)].copy()\n",
    "\n",
    "# Calculate combined YoY difference for female and gender diverse for Q2 and Q3\n",
    "q2_data['combined_YoY'] = q2_data['female_YoY_difference'] + q2_data['gender_diverse_YoY_difference']\n",
    "q3_data['combined_YoY'] = q3_data['female_YoY_difference'] + q3_data['gender_diverse_YoY_difference']\n",
    "\n",
    "# Compute the average of the combined values and the total for each quarter\n",
    "avg_combined_q2 = q2_data['combined_YoY'].mean()\n",
    "avg_combined_q3 = q3_data['combined_YoY'].mean()\n",
    "\n",
    "avg_total_q2 = q2_data['total'].mean()\n",
    "avg_total_q3 = q3_data['total'].mean()\n",
    "\n",
    "# Calculate the proportion for each quarter\n",
    "prop_q2 = avg_combined_q2 / avg_total_q2\n",
    "prop_q3 = avg_combined_q3 / avg_total_q3\n",
    "\n",
    "# Compute the delta between Q3 and Q2\n",
    "delta = prop_q3 - prop_q2\n",
    "\n",
    "# Get the last available value of quarterly_metric\n",
    "last_quarterly_metric = rolling_avg_yoy[rolling_avg_yoy['time'] == '2023-08-01']['quarterly_metric'].values[0]\n",
    "\n",
    "# Forecast for Q3 2023\n",
    "forecast_q3 = last_quarterly_metric + delta\n",
    "\n",
    "print(f\"Delta between Q2 and Q3 2022: {delta*100:.2f} percentage points\")\n",
    "print(f\"Last available quarterly metric (August 2023): {last_quarterly_metric:.2f}%\")\n",
    "print(f\"Forecast for Q4 2023: {forecast_q4:.2f}%\")\n",
    "\n"
   ]
  },
  {
   "cell_type": "markdown",
   "id": "3bdf2dcd-758d-4ffd-8843-b307c937835c",
   "metadata": {},
   "source": [
    "# Generate monthly chart"
   ]
  },
  {
   "cell_type": "code",
   "execution_count": 12,
   "id": "4283d50f-5719-4a55-b978-7d0b4cf13659",
   "metadata": {},
   "outputs": [],
   "source": [
    "#%run gender_gap_plot.ipynb"
   ]
  },
  {
   "cell_type": "code",
   "execution_count": null,
   "id": "1c0a3d27-499b-4092-9ddc-52e966ddfdd5",
   "metadata": {},
   "outputs": [],
   "source": []
  }
 ],
 "metadata": {
  "kernelspec": {
   "display_name": "Python 3 (ipykernel)",
   "language": "python",
   "name": "python3"
  },
  "language_info": {
   "codemirror_mode": {
    "name": "ipython",
    "version": 3
   },
   "file_extension": ".py",
   "mimetype": "text/x-python",
   "name": "python",
   "nbconvert_exporter": "python",
   "pygments_lexer": "ipython3",
   "version": "3.10.8"
  }
 },
 "nbformat": 4,
 "nbformat_minor": 5
}
